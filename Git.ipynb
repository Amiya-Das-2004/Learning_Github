{
 "cells": [
  {
   "cell_type": "code",
   "execution_count": null,
   "id": "bba4cfd5",
   "metadata": {
    "vscode": {
     "languageId": "latex"
    }
   },
   "outputs": [],
   "source": [
    "LEARNING GIT\n",
    "\n",
    "GIT\n",
    "\n",
    "Version controle system tools that helps to track changes in code.\n"
   ]
  },
  {
   "cell_type": "code",
   "execution_count": null,
   "id": "59e86460",
   "metadata": {
    "vscode": {
     "languageId": "latex"
    }
   },
   "outputs": [],
   "source": [
    "GitHUB\n",
    " Website that allows developer to store and manage their code using git."
   ]
  },
  {
   "cell_type": "code",
   "execution_count": null,
   "id": "ac2fad39",
   "metadata": {
    "vscode": {
     "languageId": "latex"
    }
   },
   "outputs": [],
   "source": [
    "git --version\n",
    "\n",
    "After First installation of GIT configure it.\n",
    "\n",
    "CONFIGURING GIT\n",
    "\n",
    "    git config --global user.name\"My Name\"\n",
    "\n",
    "    git config --global user.email\"someone@email.com\"\n",
    "\n",
    "    git config --list\n",
    "\n",
    "    "
   ]
  },
  {
   "cell_type": "code",
   "execution_count": null,
   "id": "e2b09ded",
   "metadata": {
    "vscode": {
     "languageId": "latex"
    }
   },
   "outputs": [],
   "source": [
    "Clone & Status\n",
    "\n",
    "Clone -Cloning a repository on our local machine\n",
    "    git clone <- some link ->\n",
    "\n",
    "status - displays the status or state of the code\n",
    "    git statu\n",
    "\n",
    "Right click in the terminal to copy the link"
   ]
  },
  {
   "cell_type": "code",
   "execution_count": null,
   "id": "6a966fc7",
   "metadata": {
    "vscode": {
     "languageId": "latex"
    }
   },
   "outputs": [],
   "source": [
    "To change directory comand is \n",
    "    cd <directory name>\n",
    "\n",
    "To exit any directory command is \n",
    "    cd ..\n",
    "\n",
    "To list files\n",
    "    ls\n",
    "\n",
    "To list all files including hidden files\n",
    "    ls -a\n",
    "\n",
    "To create a directory\n",
    "    mkdir <-filename->\n",
    "\n",
    "To delete a directory\n",
    "    rm <-filename->"
   ]
  },
  {
   "cell_type": "code",
   "execution_count": null,
   "id": "1e7a2e79",
   "metadata": {
    "vscode": {
     "languageId": "latex"
    }
   },
   "outputs": [],
   "source": [
    "Two step process: add(1) --> commit(2)\n",
    "\n",
    "untracked:  New files that git dosen't yet track\n",
    "\n",
    "modified:  Changed\n",
    "\n",
    "staged:  File is ready to be committed\n",
    "\n",
    "unmodified:  Unchanged\n",
    "\n",
    "\n",
    "\n",
    "\n",
    "ADD & COMMIT\n",
    "\n",
    "add - adds new or changed files in your working directory\n",
    "    git add .                      => to add all files\n",
    "    git add <-filename->           => enter tab to auto complete file name\n",
    "\n",
    "commit - it is the record of changed\n",
    "    git commit -m \"some message\""
   ]
  },
  {
   "cell_type": "code",
   "execution_count": null,
   "id": "f1d37fe2",
   "metadata": {
    "vscode": {
     "languageId": "latex"
    }
   },
   "outputs": [],
   "source": [
    "PUSH COMMAND\n",
    "\n",
    "push - upload local repo content to remote repo\n",
    "    git push origin main"
   ]
  },
  {
   "cell_type": "code",
   "execution_count": null,
   "id": "c6b846b1",
   "metadata": {
    "vscode": {
     "languageId": "latex"
    }
   },
   "outputs": [],
   "source": [
    "INIT COMMAND\n",
    "\n",
    "To Initialise a git repository\n",
    "\n",
    "    git init\n",
    "\n",
    "    git remote add origin <-link->\n",
    "\n",
    "    git remote -v  (to verify remote)\n",
    "\n",
    "    git branch     (to check branch)\n",
    "\n",
    "    git branch -M main    (to rename branch)\n",
    "\n",
    "    git push origin main\n",
    "\n",
    "    git push -u origin main     (to create shortcut)"
   ]
  },
  {
   "cell_type": "code",
   "execution_count": null,
   "id": "fcadcb23",
   "metadata": {
    "vscode": {
     "languageId": "latex"
    }
   },
   "outputs": [],
   "source": [
    "BRANCH COMMANDS\n",
    "\n",
    "    git branch  (to check branch)\n",
    "\n",
    "    git branch -M main     (to rename branch)\n",
    "\n",
    "    git checkout <-branch name->        (to navigate)\n",
    "\n",
    "    git checkout -b <-new branch name->      (to create new branch)\n",
    "\n",
    "    git branch -d <-branch name->        (to delete branch)"
   ]
  },
  {
   "cell_type": "code",
   "execution_count": null,
   "id": "82b97de9",
   "metadata": {
    "vscode": {
     "languageId": "latex"
    }
   },
   "outputs": [],
   "source": [
    "Merging code\n",
    "\n",
    "    way 1:\n",
    "        git diff <-branch name->        (to compare commits, branch, files & more)\n",
    "        git merge <-branch name->       (to merge 2 branches)\n",
    "\n",
    "    way 2:\n",
    "        Create a PR   (Pull Request in git hub website)"
   ]
  },
  {
   "cell_type": "markdown",
   "id": "5860bdc5",
   "metadata": {
    "vscode": {
     "languageId": "latex"
    }
   },
   "source": [
    "PULL COMMAND\n",
    "\n",
    "    git pull origin main\n",
    "\n",
    "used to fetch and download content from a remote repo and immediately update the local repo to match that content."
   ]
  },
  {
   "cell_type": "markdown",
   "id": "507c63f1",
   "metadata": {
    "vscode": {
     "languageId": "latex"
    }
   },
   "source": [
    "Resolving Merge conflict\n",
    "\n",
    "An event that tales place when Git is unable to automatically resolve differences in code between two commits."
   ]
  },
  {
   "cell_type": "code",
   "execution_count": null,
   "id": "9e49b539",
   "metadata": {
    "vscode": {
     "languageId": "latex"
    }
   },
   "outputs": [],
   "source": [
    "UNDOING CHANGES\n",
    "\n",
    "    case 1: staged changes\n",
    "        git reset <-filename->\n",
    "        git reset\n",
    "\n",
    "    case 2: commit changes (for one commit)\n",
    "        git reset HEAD~1\n",
    "\n",
    "    case 3: commited changes (for many commits)\n",
    "        git reset <-commit hash->\n",
    "        git reset --hard <-commit hash->"
   ]
  },
  {
   "cell_type": "code",
   "execution_count": null,
   "id": "d026ab91",
   "metadata": {
    "vscode": {
     "languageId": "latex"
    }
   },
   "outputs": [],
   "source": [
    "To wiew all commits\n",
    "    git log\n",
    "\n",
    "q  :to quit\n",
    "\n",
    "use fork to copy code to your local system"
   ]
  }
 ],
 "metadata": {
  "language_info": {
   "name": "python"
  }
 },
 "nbformat": 4,
 "nbformat_minor": 5
}
